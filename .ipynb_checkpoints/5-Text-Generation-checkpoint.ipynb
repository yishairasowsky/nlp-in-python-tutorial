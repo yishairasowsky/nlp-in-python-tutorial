{
 "cells": [
  {
   "cell_type": "markdown",
   "metadata": {},
   "source": [
    "# Text Generation"
   ]
  },
  {
   "cell_type": "markdown",
   "metadata": {},
   "source": [
    "## Introduction"
   ]
  },
  {
   "cell_type": "markdown",
   "metadata": {},
   "source": [
    "Markov chains can be used for very basic text generation. Think about every word in a corpus as a state. We can make a simple assumption that the next word is only dependent on the previous word - which is the basic assumption of a Markov chain.\n",
    "\n",
    "Markov chains don't generate text as well as deep learning, but it's a good (and fun!) start."
   ]
  },
  {
   "cell_type": "markdown",
   "metadata": {},
   "source": [
    "## Select Text to Imitate"
   ]
  },
  {
   "cell_type": "markdown",
   "metadata": {},
   "source": [
    "In this notebook, we're specifically going to generate text in the style of Ali Wong, so as a first step, let's extract the text from her comedy routine."
   ]
  },
  {
   "cell_type": "code",
   "execution_count": 1,
   "metadata": {},
   "outputs": [
    {
     "data": {
      "text/html": [
       "<div>\n",
       "<style scoped>\n",
       "    .dataframe tbody tr th:only-of-type {\n",
       "        vertical-align: middle;\n",
       "    }\n",
       "\n",
       "    .dataframe tbody tr th {\n",
       "        vertical-align: top;\n",
       "    }\n",
       "\n",
       "    .dataframe thead th {\n",
       "        text-align: right;\n",
       "    }\n",
       "</style>\n",
       "<table border=\"1\" class=\"dataframe\">\n",
       "  <thead>\n",
       "    <tr style=\"text-align: right;\">\n",
       "      <th></th>\n",
       "      <th>transcript</th>\n",
       "      <th>total_words</th>\n",
       "    </tr>\n",
       "  </thead>\n",
       "  <tbody>\n",
       "    <tr>\n",
       "      <td>Amos</td>\n",
       "      <td>the words of amos who was among the herdmen o...</td>\n",
       "      <td>38376</td>\n",
       "    </tr>\n",
       "    <tr>\n",
       "      <td>Chronicles</td>\n",
       "      <td>adam seth enosh  kenan mahalalel jared  enoc...</td>\n",
       "      <td>32707</td>\n",
       "    </tr>\n",
       "    <tr>\n",
       "      <td>Daniel</td>\n",
       "      <td>in the third year of the reign of jehoiakim k...</td>\n",
       "      <td>24312</td>\n",
       "    </tr>\n",
       "    <tr>\n",
       "      <td>Deuteronomy</td>\n",
       "      <td>these are the words which moses spoke unto al...</td>\n",
       "      <td>32656</td>\n",
       "    </tr>\n",
       "    <tr>\n",
       "      <td>Ecclesiastes</td>\n",
       "      <td>the words of koheleth the son of david king i...</td>\n",
       "      <td>28595</td>\n",
       "    </tr>\n",
       "    <tr>\n",
       "      <td>Esther</td>\n",
       "      <td>now it came to pass in the days of ahasuerust...</td>\n",
       "      <td>19046</td>\n",
       "    </tr>\n",
       "    <tr>\n",
       "      <td>Exodus</td>\n",
       "      <td>now these are the names of the sons of israel...</td>\n",
       "      <td>18975</td>\n",
       "    </tr>\n",
       "    <tr>\n",
       "      <td>Ezekiel</td>\n",
       "      <td>now it came to pass in the thirtieth year in ...</td>\n",
       "      <td>46058</td>\n",
       "    </tr>\n",
       "    <tr>\n",
       "      <td>EzraNehemiah</td>\n",
       "      <td>e  now in the first year of cyrus king of pers...</td>\n",
       "      <td>48206</td>\n",
       "    </tr>\n",
       "    <tr>\n",
       "      <td>Genesis</td>\n",
       "      <td>in the beginning god created the heaven and t...</td>\n",
       "      <td>36932</td>\n",
       "    </tr>\n",
       "    <tr>\n",
       "      <td>Habakkuk</td>\n",
       "      <td>the burden which habakkuk the prophet did see...</td>\n",
       "      <td>42851</td>\n",
       "    </tr>\n",
       "    <tr>\n",
       "      <td>Haggai</td>\n",
       "      <td>in the second year of darius the king in the ...</td>\n",
       "      <td>39517</td>\n",
       "    </tr>\n",
       "    <tr>\n",
       "      <td>Hosea</td>\n",
       "      <td>the word of the lord that came unto hosea the...</td>\n",
       "      <td>5193</td>\n",
       "    </tr>\n",
       "    <tr>\n",
       "      <td>Isaiah</td>\n",
       "      <td>the vision of isaiah the son of amoz which he...</td>\n",
       "      <td>2011</td>\n",
       "    </tr>\n",
       "    <tr>\n",
       "      <td>Jeremiah</td>\n",
       "      <td>the words of jeremiah the son of hilkiah of t...</td>\n",
       "      <td>4166</td>\n",
       "    </tr>\n",
       "    <tr>\n",
       "      <td>Job</td>\n",
       "      <td>there was a man in the land of uz whose name ...</td>\n",
       "      <td>656</td>\n",
       "    </tr>\n",
       "    <tr>\n",
       "      <td>Joel</td>\n",
       "      <td>the word of the lord that came to joel the so...</td>\n",
       "      <td>1330</td>\n",
       "    </tr>\n",
       "    <tr>\n",
       "      <td>Jonah</td>\n",
       "      <td>now the word of the lord came unto jonah the ...</td>\n",
       "      <td>3170</td>\n",
       "    </tr>\n",
       "    <tr>\n",
       "      <td>Joshua</td>\n",
       "      <td>now it came to pass after the death of moses ...</td>\n",
       "      <td>1250</td>\n",
       "    </tr>\n",
       "    <tr>\n",
       "      <td>Judges</td>\n",
       "      <td>and it came to pass after the death of joshua...</td>\n",
       "      <td>1459</td>\n",
       "    </tr>\n",
       "    <tr>\n",
       "      <td>Kings</td>\n",
       "      <td>now king david was old and stricken in years...</td>\n",
       "      <td>1638</td>\n",
       "    </tr>\n",
       "    <tr>\n",
       "      <td>Lamentations</td>\n",
       "      <td>how doth the city sit solitary that was full ...</td>\n",
       "      <td>1131</td>\n",
       "    </tr>\n",
       "    <tr>\n",
       "      <td>Leviticus</td>\n",
       "      <td>and the lord called unto moses and spoke unto...</td>\n",
       "      <td>6452</td>\n",
       "    </tr>\n",
       "    <tr>\n",
       "      <td>Malachi</td>\n",
       "      <td>the burden of the word of the lord to israel ...</td>\n",
       "      <td>1780</td>\n",
       "    </tr>\n",
       "    <tr>\n",
       "      <td>Micah</td>\n",
       "      <td>the word of the lord that came to micah the m...</td>\n",
       "      <td>46804</td>\n",
       "    </tr>\n",
       "    <tr>\n",
       "      <td>Nahum</td>\n",
       "      <td>the burden of nineveh the book of the vision ...</td>\n",
       "      <td>43655</td>\n",
       "    </tr>\n",
       "    <tr>\n",
       "      <td>Numbers</td>\n",
       "      <td>and the lord spoke unto moses in the wilderne...</td>\n",
       "      <td>18254</td>\n",
       "    </tr>\n",
       "    <tr>\n",
       "      <td>Obadiah</td>\n",
       "      <td>the vision of obadiah thus saith the lord god...</td>\n",
       "      <td>15150</td>\n",
       "    </tr>\n",
       "    <tr>\n",
       "      <td>Proverbs</td>\n",
       "      <td>the proverbs of solomon the son of david king...</td>\n",
       "      <td>2558</td>\n",
       "    </tr>\n",
       "    <tr>\n",
       "      <td>Psalms</td>\n",
       "      <td>happy is the man that hath not walked in the ...</td>\n",
       "      <td>2654</td>\n",
       "    </tr>\n",
       "    <tr>\n",
       "      <td>Ruth</td>\n",
       "      <td>and it came to pass in the days when the judg...</td>\n",
       "      <td>5622</td>\n",
       "    </tr>\n",
       "    <tr>\n",
       "      <td>Samuel</td>\n",
       "      <td>now there was a certain man of ramathaimzoph...</td>\n",
       "      <td>3515</td>\n",
       "    </tr>\n",
       "    <tr>\n",
       "      <td>SongofSongs</td>\n",
       "      <td>the song of songs which is solomons let him k...</td>\n",
       "      <td>5713</td>\n",
       "    </tr>\n",
       "    <tr>\n",
       "      <td>Zechariah</td>\n",
       "      <td>in the eighth month in the second year of dar...</td>\n",
       "      <td>11755</td>\n",
       "    </tr>\n",
       "    <tr>\n",
       "      <td>Zephaniah</td>\n",
       "      <td>the word of the lord which came unto zephania...</td>\n",
       "      <td>18127</td>\n",
       "    </tr>\n",
       "  </tbody>\n",
       "</table>\n",
       "</div>"
      ],
      "text/plain": [
       "                                                     transcript  total_words\n",
       "Amos           the words of amos who was among the herdmen o...        38376\n",
       "Chronicles      adam seth enosh  kenan mahalalel jared  enoc...        32707\n",
       "Daniel         in the third year of the reign of jehoiakim k...        24312\n",
       "Deuteronomy    these are the words which moses spoke unto al...        32656\n",
       "Ecclesiastes   the words of koheleth the son of david king i...        28595\n",
       "Esther         now it came to pass in the days of ahasuerust...        19046\n",
       "Exodus         now these are the names of the sons of israel...        18975\n",
       "Ezekiel        now it came to pass in the thirtieth year in ...        46058\n",
       "EzraNehemiah  e  now in the first year of cyrus king of pers...        48206\n",
       "Genesis        in the beginning god created the heaven and t...        36932\n",
       "Habakkuk       the burden which habakkuk the prophet did see...        42851\n",
       "Haggai         in the second year of darius the king in the ...        39517\n",
       "Hosea          the word of the lord that came unto hosea the...         5193\n",
       "Isaiah         the vision of isaiah the son of amoz which he...         2011\n",
       "Jeremiah       the words of jeremiah the son of hilkiah of t...         4166\n",
       "Job            there was a man in the land of uz whose name ...          656\n",
       "Joel           the word of the lord that came to joel the so...         1330\n",
       "Jonah          now the word of the lord came unto jonah the ...         3170\n",
       "Joshua         now it came to pass after the death of moses ...         1250\n",
       "Judges         and it came to pass after the death of joshua...         1459\n",
       "Kings           now king david was old and stricken in years...         1638\n",
       "Lamentations   how doth the city sit solitary that was full ...         1131\n",
       "Leviticus      and the lord called unto moses and spoke unto...         6452\n",
       "Malachi        the burden of the word of the lord to israel ...         1780\n",
       "Micah          the word of the lord that came to micah the m...        46804\n",
       "Nahum          the burden of nineveh the book of the vision ...        43655\n",
       "Numbers        and the lord spoke unto moses in the wilderne...        18254\n",
       "Obadiah        the vision of obadiah thus saith the lord god...        15150\n",
       "Proverbs       the proverbs of solomon the son of david king...         2558\n",
       "Psalms         happy is the man that hath not walked in the ...         2654\n",
       "Ruth           and it came to pass in the days when the judg...         5622\n",
       "Samuel          now there was a certain man of ramathaimzoph...         3515\n",
       "SongofSongs    the song of songs which is solomons let him k...         5713\n",
       "Zechariah      in the eighth month in the second year of dar...        11755\n",
       "Zephaniah      the word of the lord which came unto zephania...        18127"
      ]
     },
     "execution_count": 1,
     "metadata": {},
     "output_type": "execute_result"
    }
   ],
   "source": [
    "# Read in the corpus, including punctuation!\n",
    "import pandas as pd\n",
    "\n",
    "data = pd.read_pickle('corpus.pkl')\n",
    "data"
   ]
  },
  {
   "cell_type": "code",
   "execution_count": 21,
   "metadata": {},
   "outputs": [
    {
     "data": {
      "text/plain": [
       "' the proverbs of solomon the son of david king of israel to know wisdom and instruction to comprehend the words of understanding to receive the discipline of wisdom justice and right and equity to giv'"
      ]
     },
     "execution_count": 21,
     "metadata": {},
     "output_type": "execute_result"
    }
   ],
   "source": [
    "# Extract only Ali Wong's text\n",
    "proverbs_text = data.transcript.loc['Proverbs']\n",
    "proverbs_text[:200]"
   ]
  },
  {
   "cell_type": "code",
   "execution_count": 22,
   "metadata": {},
   "outputs": [
    {
     "data": {
      "text/plain": [
       "' the proverbs of solomon the son of david king of israel to know wisdom and instruction to comprehend the words of understanding to receive the discipline of wisdom justice and right and equity to giv'"
      ]
     },
     "execution_count": 22,
     "metadata": {},
     "output_type": "execute_result"
    }
   ],
   "source": [
    "texts = {book:data.transcript.loc[book] for book in data.index}\n",
    "texts['Proverbs'][:200]"
   ]
  },
  {
   "cell_type": "markdown",
   "metadata": {},
   "source": [
    "## Build a Markov Chain Function"
   ]
  },
  {
   "cell_type": "markdown",
   "metadata": {},
   "source": [
    "We are going to build a simple Markov chain function that creates a dictionary:\n",
    "* The keys should be all of the words in the corpus\n",
    "* The values should be a list of the words that follow the keys"
   ]
  },
  {
   "cell_type": "code",
   "execution_count": 33,
   "metadata": {},
   "outputs": [],
   "source": [
    "from collections import defaultdict\n",
    "\n",
    "def markov_chain(text):\n",
    "    '''The input is a string of text and the output will be a dictionary with each word as\n",
    "       a key and each value as the list of words that come after the key in the text.'''\n",
    "    \n",
    "    # Tokenize the text by word, though including punctuation\n",
    "#     words = text.split(' ')\n",
    "    words = text.split()\n",
    "    \n",
    "    # Initialize a default dictionary to hold all of the words and next words\n",
    "    m_dict = defaultdict(list)\n",
    "    \n",
    "    # Create a zipped list of all of the word pairs and put them in word: list of next words format\n",
    "    for current_word, next_word in zip(words[0:-1], words[1:]):\n",
    "        m_dict[current_word].append(next_word)\n",
    "\n",
    "    # Convert the default dict back into a dictionary\n",
    "    m_dict = dict(m_dict)\n",
    "    return m_dict"
   ]
  },
  {
   "cell_type": "code",
   "execution_count": 34,
   "metadata": {},
   "outputs": [],
   "source": [
    "# Create the dictionary for Ali's routine, take a look at it\n",
    "proverbs_dict = markov_chain(proverbs_text)\n",
    "# proverbs_dict"
   ]
  },
  {
   "cell_type": "code",
   "execution_count": 35,
   "metadata": {},
   "outputs": [],
   "source": [
    "dicts = {book:markov_chain(texts[book]) for book in data.index}"
   ]
  },
  {
   "cell_type": "code",
   "execution_count": 36,
   "metadata": {},
   "outputs": [
    {
     "data": {
      "text/plain": [
       "True"
      ]
     },
     "execution_count": 36,
     "metadata": {},
     "output_type": "execute_result"
    }
   ],
   "source": [
    "proverbs_dict == dicts['Proverbs']"
   ]
  },
  {
   "cell_type": "markdown",
   "metadata": {},
   "source": [
    "## Create a Text Generator"
   ]
  },
  {
   "cell_type": "markdown",
   "metadata": {},
   "source": [
    "We're going to create a function that generates sentences. It will take two things as inputs:\n",
    "* The dictionary you just created\n",
    "* The number of words you want generated\n",
    "\n",
    "Here are some examples of generated sentences:\n",
    "\n",
    ">'Shape right turn– I also takes so that she’s got women all know that snail-trail.'\n",
    "\n",
    ">'Optimum level of early retirement, and be sure all the following Tuesday… because it’s too.'"
   ]
  },
  {
   "cell_type": "code",
   "execution_count": 39,
   "metadata": {},
   "outputs": [],
   "source": [
    "import random\n",
    "from nltk import word_tokenize, pos_tag"
   ]
  },
  {
   "cell_type": "code",
   "execution_count": 42,
   "metadata": {},
   "outputs": [
    {
     "data": {
      "text/plain": [
       "'NN'"
      ]
     },
     "execution_count": 42,
     "metadata": {},
     "output_type": "execute_result"
    }
   ],
   "source": [
    "pos_tag(['bird'])[0][1]"
   ]
  },
  {
   "cell_type": "code",
   "execution_count": 45,
   "metadata": {},
   "outputs": [],
   "source": [
    "def generate_sentence(chain, count=15):\n",
    "    '''Input a dictionary in the format of key = current word, value = list of next words\n",
    "       along with the number of words you would like to see in your generated sentence.'''\n",
    "\n",
    "    # Capitalize the first word\n",
    "    word1 = random.choice(list(chain.keys()))\n",
    "    sentence = word1.capitalize()\n",
    "\n",
    "    # Generate the second word from the value list. Set the new word as the first word. Repeat.\n",
    "    for i in range(count-1):\n",
    "        word2 = random.choice(chain[word1])\n",
    "        word1 = word2\n",
    "        sentence += ' ' + word2\n",
    "\n",
    "    # Make sure sentence ends with a noun\n",
    "    noun_ending = False\n",
    "    word_lst = sentence.split()\n",
    "    while noun_ending == False:\n",
    "        \n",
    "        last_word = word_lst[-1]\n",
    "        word_lst = word_lst[:-1]\n",
    "        \n",
    "        noun_ending = pos_tag([last_word])[0][1]\n",
    "        word_lst = word_lst[:-1]\n",
    "    \n",
    "    sentence = ' '.join(word_lst)\n",
    "        \n",
    "    # End it with a period\n",
    "    sentence += '.'\n",
    "    return(sentence)"
   ]
  },
  {
   "cell_type": "code",
   "execution_count": 46,
   "metadata": {},
   "outputs": [
    {
     "name": "stdout",
     "output_type": "stream",
     "text": [
      "---\n",
      "Amos:\n",
      "Ease in the lord hear ye that swear by a cart creaketh that speaketh.\n",
      "---\n",
      "Chronicles:\n",
      "Ishpan and prostrated himself he walked in gilead whom the increase of judah and.\n",
      "---\n",
      "Daniel:\n",
      "Gold its head with thee that they shall set my bed then answered and.\n",
      "---\n",
      "Deuteronomy:\n",
      "Forgive o israel for thy house of the causes between whom thou shalt dwell.\n",
      "---\n",
      "Ecclesiastes:\n",
      "Tell a wise man what profit hath no preeminence above all his neighbour this.\n",
      "---\n",
      "Esther:\n",
      "Long as joined themselves together the words of the rest from among the jews.\n",
      "---\n",
      "Exodus:\n",
      "Foot beside the land of her unto the sockets twenty boards two men and.\n",
      "---\n",
      "Ezekiel:\n",
      "Solicited and sent them thus saith the time of thine eyes to all the.\n",
      "---\n",
      "EzraNehemiah:\n",
      "Jahaziel and the sons of silver with me timber to pass when i gave.\n",
      "---\n",
      "Genesis:\n",
      "Years old and the men into egypt for a few and that is therein.\n",
      "---\n",
      "Habakkuk:\n",
      "Law and say woe to scatter me upon tables that saith to the sea.\n",
      "---\n",
      "Haggai:\n",
      "Garment and how do ye clothe you that there is unclean and the king.\n",
      "---\n",
      "Hosea:\n",
      "Compassion upon the wilderness in the figtree at bethaven nor mercy break his ways.\n",
      "---\n",
      "Isaiah:\n",
      "Lifeblood is near my covenant of lebanon since the top of tema did that.\n",
      "---\n",
      "Jeremiah:\n",
      "Noise of their iniquity and let them into the chastisement of the weeping shall.\n",
      "---\n",
      "Job:\n",
      "Falcons eye of the wilderness wherein he gather the naamathite and whom he bindeth.\n",
      "---\n",
      "Joel:\n",
      "Cometh for the field is withered away from his foulness may come up and.\n",
      "---\n",
      "Jonah:\n",
      "Wickedness is better for i am cast lots that thou what is thine eyes.\n",
      "---\n",
      "Joshua:\n",
      "Ziklag and called the lord before them for the edge of the children of.\n",
      "---\n",
      "Judges:\n",
      "Locks of the five men of midian was a place even and he feared.\n",
      "---\n",
      "Kings:\n",
      "Giving food of egypt and they said unto the acts and chariots saw jehoshaphat.\n",
      "---\n",
      "Lamentations:\n",
      "Gall and keep silence the adversary and destruction of death s zion comparable to.\n",
      "---\n",
      "Leviticus:\n",
      "Crushed or in the lord hath any of aaron shall be not hearken unto.\n",
      "---\n",
      "Malachi:\n",
      "Word of fear saith we have we wearied him then i accept this of.\n",
      "---\n",
      "Micah:\n",
      "Fury upon the preacher of israel whose goings forth the vintage there no answer.\n",
      "---\n",
      "Nahum:\n",
      "Have afflicted thee no more and the streets and will cut off thee water.\n",
      "---\n",
      "Numbers:\n",
      "Husbands house of the son of sprinkling it be for ye inherit with oil.\n",
      "---\n",
      "Obadiah:\n",
      "Mount of the mount zion there is no discernment shall possess the rock thy.\n",
      "---\n",
      "Proverbs:\n",
      "Nwhen trouble a king lemuel it cannot endure unto the man that hateth his.\n",
      "---\n",
      "Psalms:\n",
      "Changed his glory and ever blessed of those that regard unto me from this.\n",
      "---\n",
      "Ruth:\n",
      "Seek rest each of the dead to the lord gave to pass at midnight.\n",
      "---\n",
      "Samuel:\n",
      "Adoram was singlehearted toward jerusalem that the threshingfloor and no mans lamb and the.\n",
      "---\n",
      "SongofSongs:\n",
      "Sockets of spices thou mightest instruct me keeper of wheat set with lilies until.\n",
      "---\n",
      "Zechariah:\n",
      "Strengthen the lord of many nations and if ye call on the mountain of.\n",
      "---\n",
      "Zephaniah:\n",
      "Consume man and the face of thee thou shalt not in the lord until.\n"
     ]
    }
   ],
   "source": [
    "for book in data.index:\n",
    "    print('---')\n",
    "    print(book + ':')\n",
    "    for i in range(0,1):\n",
    "        print(generate_sentence(dicts[book]))"
   ]
  },
  {
   "cell_type": "markdown",
   "metadata": {
    "collapsed": true
   },
   "source": [
    "## Additional Exercises"
   ]
  },
  {
   "cell_type": "markdown",
   "metadata": {},
   "source": [
    "1. Try making the generate_sentence function better. Maybe allow it to end with a random punctuation mark or end whenever it gets to a word that already ends with a punctuation mark."
   ]
  },
  {
   "cell_type": "code",
   "execution_count": null,
   "metadata": {
    "collapsed": true
   },
   "outputs": [],
   "source": []
  }
 ],
 "metadata": {
  "kernelspec": {
   "display_name": "Python 3",
   "language": "python",
   "name": "python3"
  },
  "language_info": {
   "codemirror_mode": {
    "name": "ipython",
    "version": 3
   },
   "file_extension": ".py",
   "mimetype": "text/x-python",
   "name": "python",
   "nbconvert_exporter": "python",
   "pygments_lexer": "ipython3",
   "version": "3.7.4"
  },
  "toc": {
   "nav_menu": {},
   "number_sections": true,
   "sideBar": true,
   "skip_h1_title": false,
   "toc_cell": false,
   "toc_position": {},
   "toc_section_display": "block",
   "toc_window_display": false
  },
  "varInspector": {
   "cols": {
    "lenName": 16,
    "lenType": 16,
    "lenVar": 40
   },
   "kernels_config": {
    "python": {
     "delete_cmd_postfix": "",
     "delete_cmd_prefix": "del ",
     "library": "var_list.py",
     "varRefreshCmd": "print(var_dic_list())"
    },
    "r": {
     "delete_cmd_postfix": ") ",
     "delete_cmd_prefix": "rm(",
     "library": "var_list.r",
     "varRefreshCmd": "cat(var_dic_list()) "
    }
   },
   "types_to_exclude": [
    "module",
    "function",
    "builtin_function_or_method",
    "instance",
    "_Feature"
   ],
   "window_display": false
  }
 },
 "nbformat": 4,
 "nbformat_minor": 2
}
